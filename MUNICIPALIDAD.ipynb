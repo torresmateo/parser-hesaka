{
 "cells": [
  {
   "cell_type": "code",
   "execution_count": null,
   "id": "numeric-transmission",
   "metadata": {},
   "outputs": [],
   "source": [
    "import pandas as pd\n",
    "import re\n",
    "import matplotlib.pyplot as plt\n",
    "import seaborn as sns\n",
    "from parser import parse_file_municipalidad"
   ]
  },
  {
   "cell_type": "code",
   "execution_count": null,
   "id": "2d8284ed-88bd-4e5b-ae4b-9b7d05dd0145",
   "metadata": {},
   "outputs": [],
   "source": [
    "funcionarios, skipped_lines = parse_file_municipalidad(\"data/febrero-2022.txt\")"
   ]
  },
  {
   "cell_type": "code",
   "execution_count": null,
   "id": "informal-smile",
   "metadata": {},
   "outputs": [],
   "source": [
    "funcionarios_df = pd.DataFrame(funcionarios)"
   ]
  },
  {
   "cell_type": "code",
   "execution_count": null,
   "id": "69a9ef53-0049-4718-9a9a-3b9a64144f1a",
   "metadata": {},
   "outputs": [],
   "source": [
    "cedula_monto_total = funcionarios_df.groupby(\"cedula\")[\"monto\"].sum().reset_index()\n",
    "top25 = cedula_monto_total.sort_values(\"monto\", ascending=False)[:25]"
   ]
  },
  {
   "cell_type": "code",
   "execution_count": null,
   "id": "6a2637be-ec04-4f2d-8c0c-e51199355f08",
   "metadata": {},
   "outputs": [],
   "source": [
    "cond = funcionarios_df[\"cedula\"].isin(top25[\"cedula\"])\n",
    "funcionarios_df[cond].sort_values(\"cedula\")"
   ]
  },
  {
   "cell_type": "code",
   "execution_count": null,
   "id": "6151e7a0-afe4-4c1a-b919-c36d570403e6",
   "metadata": {},
   "outputs": [],
   "source": [
    "fig, ax = plt.subplots(figsize=(20,10))\n",
    "sns.histplot(x=funcionarios_df.groupby(\"cedula\")[\"monto\"].sum())\n",
    "#ax.set_yscale(\"log\")\n",
    "ax.ticklabel_format(useOffset=False, style=\"plain\")\n",
    "plt.show()\n",
    "plt.close(\"all\")"
   ]
  }
 ],
 "metadata": {
  "kernelspec": {
   "display_name": "Python 3 (ipykernel)",
   "language": "python",
   "name": "python3"
  },
  "language_info": {
   "codemirror_mode": {
    "name": "ipython",
    "version": 3
   },
   "file_extension": ".py",
   "mimetype": "text/x-python",
   "name": "python",
   "nbconvert_exporter": "python",
   "pygments_lexer": "ipython3",
   "version": "3.10.2"
  }
 },
 "nbformat": 4,
 "nbformat_minor": 5
}
