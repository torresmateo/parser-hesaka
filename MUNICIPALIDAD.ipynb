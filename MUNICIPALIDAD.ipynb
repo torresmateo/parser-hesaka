{
 "cells": [
  {
   "cell_type": "code",
   "execution_count": null,
   "id": "numeric-transmission",
   "metadata": {},
   "outputs": [],
   "source": [
    "import pandas as pd\n",
    "import re\n",
    "import matplotlib.pyplot as plt\n",
    "import seaborn as sns"
   ]
  },
  {
   "cell_type": "code",
   "execution_count": null,
   "id": "7e1d925d-d765-403b-b767-73194c9ba935",
   "metadata": {},
   "outputs": [],
   "source": [
    "def parse_line(line):\n",
    "    \"\"\"\n",
    "    La estructura de la gran mayoría de las líneas es:\n",
    "    \n",
    "    <cedula> <nombre>\\s{2,}<relacion_laboral>\\s{2,}<monto> <concepto>\\s{2,}<dependencia>\\s{2,}[cargo]\\s{2,}[anho_ingreso]\n",
    "    \n",
    "    donde:\n",
    "    <campo> representa un campo obligatorio\n",
    "    [campo] es un campo opcional\n",
    "    \n",
    "    existen irregularidades, aunque afortunadamente es en [cargo] (a veces el cargo en sí tiene separaciones de más de un espacio)\n",
    "    \n",
    "    \"\"\"\n",
    "    cedula = nombre = relacion_laboral = monto = concepto = dependencia = cargo = anho_ingreso = None\n",
    "    line = line.strip()\n",
    "\n",
    "    campos_2e = re.split(\"\\s{2,}\", line)\n",
    "    if len(campos_2e) > 5:\n",
    "        cedula, nombre = campos_2e[0].split(maxsplit=1)\n",
    "        relacion_laboral = campos_2e[1]\n",
    "        monto, concepto = campos_2e[2].split(maxsplit=1)\n",
    "        dependencia = campos_2e[3]\n",
    "        cargo = \" \".join(campos_2e[4:-1])\n",
    "        anho_ingreso = campos_2e[-1]\n",
    "\n",
    "        try:\n",
    "            monto = int(monto)\n",
    "        except ValueError:\n",
    "            print(\"Linea con error\")\n",
    "            print(line)\n",
    "\n",
    "    return cedula, nombre, relacion_laboral, monto, concepto, dependencia, cargo, anho_ingreso\n",
    "\n",
    "def parse_file_municipalidad(file):\n",
    "    data = {k:[] for k in [\"cedula\", \"nombre\", \"relacion laboral\", \"monto\", \"concepto\", \"dependencia\", \"cargo\", \"anho ingreso\"]}\n",
    "    for line in open(file, encoding=\"Latin-1\"):\n",
    "        cedula, nombre, relacion_laboral, monto, concepto, dependencia, cargo, anho_ingreso = parse_line(line)\n",
    "        if cedula:\n",
    "            data[\"cedula\"].append(cedula)\n",
    "            data[\"nombre\"].append(nombre)\n",
    "            data[\"relacion laboral\"].append(relacion_laboral)\n",
    "            data[\"monto\"].append(monto)\n",
    "            data[\"concepto\"].append(concepto)\n",
    "            data[\"dependencia\"].append(dependencia)\n",
    "            data[\"cargo\"].append(cargo)\n",
    "            data[\"anho ingreso\"].append(anho_ingreso)\n",
    "    return data"
   ]
  },
  {
   "cell_type": "code",
   "execution_count": null,
   "id": "consecutive-ballet",
   "metadata": {},
   "outputs": [],
   "source": [
    "funcionarios = parse_file_municipalidad(\"data/out.txt\")"
   ]
  },
  {
   "cell_type": "code",
   "execution_count": null,
   "id": "informal-smile",
   "metadata": {},
   "outputs": [],
   "source": [
    "funcionarios_df = pd.DataFrame(funcionarios)"
   ]
  }
 ],
 "metadata": {
  "kernelspec": {
   "display_name": "Python 3 (ipykernel)",
   "language": "python",
   "name": "python3"
  },
  "language_info": {
   "codemirror_mode": {
    "name": "ipython",
    "version": 3
   },
   "file_extension": ".py",
   "mimetype": "text/x-python",
   "name": "python",
   "nbconvert_exporter": "python",
   "pygments_lexer": "ipython3",
   "version": "3.10.2"
  }
 },
 "nbformat": 4,
 "nbformat_minor": 5
}
